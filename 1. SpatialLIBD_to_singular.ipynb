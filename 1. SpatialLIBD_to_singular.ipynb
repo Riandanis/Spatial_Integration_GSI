{
 "cells": [
  {
   "cell_type": "code",
   "execution_count": 12,
   "id": "9349fdcb-0735-4559-afc3-dda292594e0a",
   "metadata": {
    "scrolled": true,
    "vscode": {
     "languageId": "r"
    }
   },
   "outputs": [
    {
     "data": {
      "text/plain": [
       "python:         /opt/conda/bin/python3.10\n",
       "libpython:      /opt/conda/lib/libpython3.10.so\n",
       "pythonhome:     /opt/conda:/opt/conda\n",
       "version:        3.10.11 (main, Apr 20 2023, 19:02:41) [GCC 11.2.0]\n",
       "numpy:          /opt/conda/lib/python3.10/site-packages/numpy\n",
       "numpy_version:  1.26.4\n",
       "\n",
       "NOTE: Python version was forced by use_python() function"
      ]
     },
     "metadata": {},
     "output_type": "display_data"
    },
    {
     "name": "stdout",
     "output_type": "stream",
     "text": [
      "[1] \"Welcome to BEER (v0.1.9)!\"\n"
     ]
    }
   ],
   "source": [
    "library(reticulate)\n",
    "use_python(\"/opt/conda/bin/python3.10\",required=T)\n",
    "py_config()\n",
    "library(rhdf5)\n",
    "library(Seurat)\n",
    "library(ggplot2)\n",
    "library(dplyr)\n",
    "library(anndata)\n",
    "library(spatialLIBD)\n",
    "source('/workspace/volume/spatial_integration/BEER/BEER.R') #adjust to BEER source"
   ]
  },
  {
   "cell_type": "code",
   "execution_count": 13,
   "id": "0af6f3fb-d71e-43a2-98b7-2a1475868948",
   "metadata": {
    "vscode": {
     "languageId": "r"
    }
   },
   "outputs": [
    {
     "data": {
      "text/html": [
       "'/workspace/volume/spatial_integration/GNN_based/combined/New/Reworked_flow'"
      ],
      "text/latex": [
       "'/workspace/volume/spatial\\_integration/GNN\\_based/combined/New/Reworked\\_flow'"
      ],
      "text/markdown": [
       "'/workspace/volume/spatial_integration/GNN_based/combined/New/Reworked_flow'"
      ],
      "text/plain": [
       "[1] \"/workspace/volume/spatial_integration/GNN_based/combined/New/Reworked_flow\""
      ]
     },
     "metadata": {},
     "output_type": "display_data"
    }
   ],
   "source": [
    "getwd()"
   ]
  },
  {
   "cell_type": "code",
   "execution_count": 14,
   "id": "fb5461e6-f1f2-4d22-a031-39e6ed7cea93",
   "metadata": {},
   "outputs": [],
   "source": [
    "# Adjust spe rds folder\n",
    "data_folder = 'dataset/'"
   ]
  },
  {
   "cell_type": "code",
   "execution_count": 4,
   "id": "86aa2c4f-ae4f-4ced-8292-bfc270823903",
   "metadata": {},
   "outputs": [],
   "source": [
    "spe_all <- readRDS(file.path(data_folder,'/spe_all.rds'))"
   ]
  },
  {
   "cell_type": "code",
   "execution_count": 5,
   "id": "9fd0220a-58cf-4d9f-9ac2-ee66663b2d4f",
   "metadata": {},
   "outputs": [
    {
     "data": {
      "text/plain": [
       "class: SpatialExperiment \n",
       "dim: 33538 47681 \n",
       "metadata(0):\n",
       "assays(2): counts logcounts\n",
       "rownames(33538): ENSG00000243485 ENSG00000237613 ... ENSG00000277475\n",
       "  ENSG00000268674\n",
       "rowData names(9): source type ... gene_search is_top_hvg\n",
       "colnames(47681): AAACAACGAATAGTTC-1 AAACAAGTATCTCCCA-1 ...\n",
       "  TTGTTTCCATACAACT-1 TTGTTTGTGTAAATTC-1\n",
       "colData names(69): sample_id Cluster ... array_row array_col\n",
       "reducedDimNames(6): PCA TSNE_perplexity50 ... TSNE_perplexity80\n",
       "  UMAP_neighbors15\n",
       "mainExpName: NULL\n",
       "altExpNames(0):\n",
       "spatialCoords names(2) : pxl_col_in_fullres pxl_row_in_fullres\n",
       "imgData names(4): sample_id image_id data scaleFactor"
      ]
     },
     "metadata": {},
     "output_type": "display_data"
    }
   ],
   "source": [
    "spe_all"
   ]
  },
  {
   "cell_type": "markdown",
   "id": "413faec4-a26f-4c86-8faa-5ec80c5d8ebb",
   "metadata": {},
   "source": [
    "<h2>Select sample subset by id, Save rawcount, logcount, and coordinate as .rds file</h2>"
   ]
  },
  {
   "cell_type": "code",
   "execution_count": 15,
   "id": "41f853cd-e026-4c3d-bfcf-30468507b547",
   "metadata": {},
   "outputs": [
    {
     "name": "stderr",
     "output_type": "stream",
     "text": [
      "Warning message in asMethod(object):\n",
      "“sparse->dense coercion: allocating vector of size 1.1 GiB”\n",
      "Warning message in asMethod(object):\n",
      "“sparse->dense coercion: allocating vector of size 1.1 GiB”\n",
      "Warning message in asMethod(object):\n",
      "“sparse->dense coercion: allocating vector of size 1.2 GiB”\n",
      "Warning message in asMethod(object):\n",
      "“sparse->dense coercion: allocating vector of size 1.2 GiB”\n",
      "Warning message in asMethod(object):\n",
      "“sparse->dense coercion: allocating vector of size 1.0 GiB”\n",
      "Warning message in asMethod(object):\n",
      "“sparse->dense coercion: allocating vector of size 1.0 GiB”\n"
     ]
    }
   ],
   "source": [
    "sample_ids <- c('151507', '151508', '151509', '151510', \n",
    "                '151669', '151670', '151671', '151672', \n",
    "                '151673', '151674', '151675', '151676')\n",
    "spe_dict <- list()\n",
    "logcount_dict <- list()\n",
    "rawcount_dict <- list()\n",
    "coord_dict <- list()\n",
    "\n",
    "for (sample_id in sample_ids) {\n",
    "    # Create subset for each sample\n",
    "    spe_dict[[sample_id]] <- spe_all[, spe_all$sample_id == sample_id]\n",
    "    \n",
    "    # Extract 'logcounts' from the assays\n",
    "    logcount_dict[[sample_id]] <- assays(spe_dict[[sample_id]])[['logcounts']]\n",
    "    to_save_logcount <- as.data.frame(logcount_dict[[sample_id]])\n",
    "\n",
    "    # Extract 'rawcounts' from the assays\n",
    "    rawcount_dict[[sample_id]] <- assays(spe_dict[[sample_id]])[['counts']]\n",
    "    to_save_rawcount <- as.data.frame(rawcount_dict[[sample_id]])\n",
    "\n",
    "    # Extract coordinates list\n",
    "    coord_dict[[sample_id]] <- spatialCoords(spe_dict[[sample_id]])\n",
    "    \n",
    "    # Save to an RDS file\n",
    "    saveRDS(to_save_logcount, file = paste0(\"dataset/samples/df_logcounts_\", sample_id, \".rds\"))\n",
    "    saveRDS(to_save_rawcount, file = paste0(\"dataset/samples/df_rawcounts_\", sample_id, \".rds\"))\n",
    "    saveRDS(coord_dict[[sample_id]], file = paste0(\"dataset/samples/coord_\", sample_id, \".rds\"))\n",
    "}"
   ]
  }
 ],
 "metadata": {
  "kernelspec": {
   "display_name": "R-trial",
   "language": "R",
   "name": "r-trial"
  },
  "language_info": {
   "codemirror_mode": "r",
   "file_extension": ".r",
   "mimetype": "text/x-r-source",
   "name": "R",
   "pygments_lexer": "r",
   "version": "4.4.2"
  }
 },
 "nbformat": 4,
 "nbformat_minor": 5
}
