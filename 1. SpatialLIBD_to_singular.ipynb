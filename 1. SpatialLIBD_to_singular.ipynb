{
 "cells": [
  {
   "cell_type": "code",
   "execution_count": 1,
   "id": "9349fdcb-0735-4559-afc3-dda292594e0a",
   "metadata": {
    "scrolled": true,
    "vscode": {
     "languageId": "r"
    }
   },
   "outputs": [
    {
     "data": {
      "text/plain": [
       "python:         /opt/conda/bin/python3.10\n",
       "libpython:      /opt/conda/lib/libpython3.10.so\n",
       "pythonhome:     /opt/conda:/opt/conda\n",
       "version:        3.10.11 (main, Apr 20 2023, 19:02:41) [GCC 11.2.0]\n",
       "numpy:          /opt/conda/lib/python3.10/site-packages/numpy\n",
       "numpy_version:  1.26.4\n",
       "\n",
       "NOTE: Python version was forced by use_python() function"
      ]
     },
     "metadata": {},
     "output_type": "display_data"
    },
    {
     "name": "stderr",
     "output_type": "stream",
     "text": [
      "The legacy packages maptools, rgdal, and rgeos, underpinning the sp package,\n",
      "which was just loaded, will retire in October 2023.\n",
      "Please refer to R-spatial evolution reports for details, especially\n",
      "https://r-spatial.org/r/2023/05/15/evolution4.html.\n",
      "It may be desirable to make the sf package available;\n",
      "package maintainers should consider adding sf to Suggests:.\n",
      "The sp package is now running under evolution status 2\n",
      "     (status 2 uses the sf package in place of rgdal)\n",
      "\n",
      "Attaching SeuratObject\n",
      "\n",
      "\n",
      "Attaching package: ‘dplyr’\n",
      "\n",
      "\n",
      "The following objects are masked from ‘package:stats’:\n",
      "\n",
      "    filter, lag\n",
      "\n",
      "\n",
      "The following objects are masked from ‘package:base’:\n",
      "\n",
      "    intersect, setdiff, setequal, union\n",
      "\n",
      "\n",
      "Loading required package: SpatialExperiment\n",
      "\n",
      "Loading required package: SingleCellExperiment\n",
      "\n",
      "Loading required package: SummarizedExperiment\n",
      "\n",
      "Loading required package: MatrixGenerics\n",
      "\n",
      "Loading required package: matrixStats\n",
      "\n",
      "\n",
      "Attaching package: ‘matrixStats’\n",
      "\n",
      "\n",
      "The following object is masked from ‘package:dplyr’:\n",
      "\n",
      "    count\n",
      "\n",
      "\n",
      "\n",
      "Attaching package: ‘MatrixGenerics’\n",
      "\n",
      "\n",
      "The following objects are masked from ‘package:matrixStats’:\n",
      "\n",
      "    colAlls, colAnyNAs, colAnys, colAvgsPerRowSet, colCollapse,\n",
      "    colCounts, colCummaxs, colCummins, colCumprods, colCumsums,\n",
      "    colDiffs, colIQRDiffs, colIQRs, colLogSumExps, colMadDiffs,\n",
      "    colMads, colMaxs, colMeans2, colMedians, colMins, colOrderStats,\n",
      "    colProds, colQuantiles, colRanges, colRanks, colSdDiffs, colSds,\n",
      "    colSums2, colTabulates, colVarDiffs, colVars, colWeightedMads,\n",
      "    colWeightedMeans, colWeightedMedians, colWeightedSds,\n",
      "    colWeightedVars, rowAlls, rowAnyNAs, rowAnys, rowAvgsPerColSet,\n",
      "    rowCollapse, rowCounts, rowCummaxs, rowCummins, rowCumprods,\n",
      "    rowCumsums, rowDiffs, rowIQRDiffs, rowIQRs, rowLogSumExps,\n",
      "    rowMadDiffs, rowMads, rowMaxs, rowMeans2, rowMedians, rowMins,\n",
      "    rowOrderStats, rowProds, rowQuantiles, rowRanges, rowRanks,\n",
      "    rowSdDiffs, rowSds, rowSums2, rowTabulates, rowVarDiffs, rowVars,\n",
      "    rowWeightedMads, rowWeightedMeans, rowWeightedMedians,\n",
      "    rowWeightedSds, rowWeightedVars\n",
      "\n",
      "\n",
      "Loading required package: GenomicRanges\n",
      "\n",
      "Loading required package: stats4\n",
      "\n",
      "Loading required package: BiocGenerics\n",
      "\n",
      "\n",
      "Attaching package: ‘BiocGenerics’\n",
      "\n",
      "\n",
      "The following objects are masked from ‘package:dplyr’:\n",
      "\n",
      "    combine, intersect, setdiff, union\n",
      "\n",
      "\n",
      "The following objects are masked from ‘package:stats’:\n",
      "\n",
      "    IQR, mad, sd, var, xtabs\n",
      "\n",
      "\n",
      "The following objects are masked from ‘package:base’:\n",
      "\n",
      "    Filter, Find, Map, Position, Reduce, anyDuplicated, aperm, append,\n",
      "    as.data.frame, basename, cbind, colnames, dirname, do.call,\n",
      "    duplicated, eval, evalq, get, grep, grepl, intersect, is.unsorted,\n",
      "    lapply, mapply, match, mget, order, paste, pmax, pmax.int, pmin,\n",
      "    pmin.int, rank, rbind, rownames, sapply, setdiff, sort, table,\n",
      "    tapply, union, unique, unsplit, which.max, which.min\n",
      "\n",
      "\n",
      "Loading required package: S4Vectors\n",
      "\n",
      "\n",
      "Attaching package: ‘S4Vectors’\n",
      "\n",
      "\n",
      "The following objects are masked from ‘package:dplyr’:\n",
      "\n",
      "    first, rename\n",
      "\n",
      "\n",
      "The following object is masked from ‘package:utils’:\n",
      "\n",
      "    findMatches\n",
      "\n",
      "\n",
      "The following objects are masked from ‘package:base’:\n",
      "\n",
      "    I, expand.grid, unname\n",
      "\n",
      "\n",
      "Loading required package: IRanges\n",
      "\n",
      "\n",
      "Attaching package: ‘IRanges’\n",
      "\n",
      "\n",
      "The following objects are masked from ‘package:dplyr’:\n",
      "\n",
      "    collapse, desc, slice\n",
      "\n",
      "\n",
      "Loading required package: GenomeInfoDb\n",
      "\n",
      "Loading required package: Biobase\n",
      "\n",
      "Welcome to Bioconductor\n",
      "\n",
      "    Vignettes contain introductory material; view with\n",
      "    'browseVignettes()'. To cite Bioconductor, see\n",
      "    'citation(\"Biobase\")', and for packages 'citation(\"pkgname\")'.\n",
      "\n",
      "\n",
      "\n",
      "Attaching package: ‘Biobase’\n",
      "\n",
      "\n",
      "The following object is masked from ‘package:MatrixGenerics’:\n",
      "\n",
      "    rowMedians\n",
      "\n",
      "\n",
      "The following objects are masked from ‘package:matrixStats’:\n",
      "\n",
      "    anyMissing, rowMedians\n",
      "\n",
      "\n",
      "\n",
      "Attaching package: ‘SummarizedExperiment’\n",
      "\n",
      "\n",
      "The following object is masked from ‘package:SeuratObject’:\n",
      "\n",
      "    Assays\n",
      "\n",
      "\n",
      "The following object is masked from ‘package:Seurat’:\n",
      "\n",
      "    Assays\n",
      "\n",
      "\n"
     ]
    },
    {
     "name": "stdout",
     "output_type": "stream",
     "text": [
      "[1] \"Welcome to BEER (v0.1.9)!\"\n"
     ]
    },
    {
     "name": "stderr",
     "output_type": "stream",
     "text": [
      "Loading required package: mgcv\n",
      "\n",
      "Loading required package: nlme\n",
      "\n",
      "\n",
      "Attaching package: ‘nlme’\n",
      "\n",
      "\n",
      "The following object is masked from ‘package:IRanges’:\n",
      "\n",
      "    collapse\n",
      "\n",
      "\n",
      "The following object is masked from ‘package:dplyr’:\n",
      "\n",
      "    collapse\n",
      "\n",
      "\n",
      "This is mgcv 1.9-0. For overview type 'help(\"mgcv-package\")'.\n",
      "\n",
      "Loading required package: genefilter\n",
      "\n",
      "\n",
      "Attaching package: ‘genefilter’\n",
      "\n",
      "\n",
      "The following objects are masked from ‘package:MatrixGenerics’:\n",
      "\n",
      "    rowSds, rowVars\n",
      "\n",
      "\n",
      "The following objects are masked from ‘package:matrixStats’:\n",
      "\n",
      "    rowSds, rowVars\n",
      "\n",
      "\n",
      "Loading required package: BiocParallel\n",
      "\n",
      "\n",
      "Attaching package: ‘limma’\n",
      "\n",
      "\n",
      "The following object is masked from ‘package:BiocGenerics’:\n",
      "\n",
      "    plotMA\n",
      "\n",
      "\n"
     ]
    }
   ],
   "source": [
    "library(reticulate)\n",
    "use_python(\"/opt/conda/bin/python3.10\",required=T)\n",
    "py_config()\n",
    "library(rhdf5)\n",
    "library(Seurat)\n",
    "library(ggplot2)\n",
    "library(dplyr)\n",
    "library(anndata)\n",
    "library(spatialLIBD)\n",
    "source('/workspace/volume/spatial_integration/BEER/BEER.R')"
   ]
  },
  {
   "cell_type": "code",
   "execution_count": 2,
   "id": "0af6f3fb-d71e-43a2-98b7-2a1475868948",
   "metadata": {
    "vscode": {
     "languageId": "r"
    }
   },
   "outputs": [
    {
     "data": {
      "text/html": [
       "'/workspace/volume/spatial_integration/GNN_based/combined'"
      ],
      "text/latex": [
       "'/workspace/volume/spatial\\_integration/GNN\\_based/combined'"
      ],
      "text/markdown": [
       "'/workspace/volume/spatial_integration/GNN_based/combined'"
      ],
      "text/plain": [
       "[1] \"/workspace/volume/spatial_integration/GNN_based/combined\""
      ]
     },
     "metadata": {},
     "output_type": "display_data"
    }
   ],
   "source": [
    "getwd()"
   ]
  },
  {
   "cell_type": "code",
   "execution_count": 3,
   "id": "fb5461e6-f1f2-4d22-a031-39e6ed7cea93",
   "metadata": {},
   "outputs": [],
   "source": [
    "# Adjust spe rds folder\n",
    "data_folder = '/workspace/volume/spatial_integration/GNN_based/combined/processed_data/'"
   ]
  },
  {
   "cell_type": "code",
   "execution_count": 7,
   "id": "86aa2c4f-ae4f-4ced-8292-bfc270823903",
   "metadata": {},
   "outputs": [],
   "source": [
    "spe_all <- readRDS(file.path(data_folder,'/spe_all.rds'))"
   ]
  },
  {
   "cell_type": "code",
   "execution_count": 8,
   "id": "9fd0220a-58cf-4d9f-9ac2-ee66663b2d4f",
   "metadata": {},
   "outputs": [
    {
     "data": {
      "text/plain": [
       "class: SpatialExperiment \n",
       "dim: 33538 47681 \n",
       "metadata(0):\n",
       "assays(2): counts logcounts\n",
       "rownames(33538): ENSG00000243485 ENSG00000237613 ... ENSG00000277475\n",
       "  ENSG00000268674\n",
       "rowData names(9): source type ... gene_search is_top_hvg\n",
       "colnames(47681): AAACAACGAATAGTTC-1 AAACAAGTATCTCCCA-1 ...\n",
       "  TTGTTTCCATACAACT-1 TTGTTTGTGTAAATTC-1\n",
       "colData names(69): sample_id Cluster ... array_row array_col\n",
       "reducedDimNames(6): PCA TSNE_perplexity50 ... TSNE_perplexity80\n",
       "  UMAP_neighbors15\n",
       "mainExpName: NULL\n",
       "altExpNames(0):\n",
       "spatialCoords names(2) : pxl_col_in_fullres pxl_row_in_fullres\n",
       "imgData names(4): sample_id image_id data scaleFactor"
      ]
     },
     "metadata": {},
     "output_type": "display_data"
    }
   ],
   "source": [
    "spe_all"
   ]
  },
  {
   "cell_type": "markdown",
   "id": "413faec4-a26f-4c86-8faa-5ec80c5d8ebb",
   "metadata": {},
   "source": [
    "<h2>Select sample subset by id</h2>"
   ]
  },
  {
   "cell_type": "code",
   "execution_count": 17,
   "id": "04fdd625-7e67-4d3d-b8b1-f471701744dc",
   "metadata": {},
   "outputs": [],
   "source": [
    "spe_151507 <- spe_all[, spe_all$sample_id == '151507']\n",
    "spe_151508 <- spe_all[, spe_all$sample_id == '151508']\n",
    "spe_151509 <- spe_all[, spe_all$sample_id == '151509']\n",
    "spe_151510 <- spe_all[, spe_all$sample_id == '151510']\n",
    "\n",
    "spe_151669 <- spe_all[, spe_all$sample_id == '151669']\n",
    "spe_151670 <- spe_all[, spe_all$sample_id == '151670']\n",
    "spe_151671 <- spe_all[, spe_all$sample_id == '151671']\n",
    "spe_151672 <- spe_all[, spe_all$sample_id == '151672']\n",
    "\n",
    "spe_151673 <- spe_all[, spe_all$sample_id == '151673']\n",
    "spe_151674 <- spe_all[, spe_all$sample_id == '151674']\n",
    "spe_151675 <- spe_all[, spe_all$sample_id == '151675']\n",
    "spe_151676 <- spe_all[, spe_all$sample_id == '151676']"
   ]
  },
  {
   "cell_type": "markdown",
   "id": "e9d3d58f-e9d6-4e5d-9192-7b24def05055",
   "metadata": {},
   "source": [
    "<h2>Get Rawcount, logcount, and coordinate as separate Rdata</h2>"
   ]
  },
  {
   "cell_type": "code",
   "execution_count": 26,
   "id": "ff3da5f2-9811-41c8-bbea-d9e521dc0b09",
   "metadata": {},
   "outputs": [],
   "source": [
    "rawcount_151507 <- assays(spe_151507)[['logcounts']]\n",
    "rawcount_151508 <- assays(spe_151508)[['logcounts']]\n",
    "rawcount_151509 <- assays(spe_151509)[['logcounts']]\n",
    "rawcount_151510 <- assays(spe_151510)[['logcounts']]\n",
    "\n",
    "rawcount_151669 <- assays(spe_151669)[['logcounts']]\n",
    "rawcount_151670 <- assays(spe_151670)[['logcounts']]\n",
    "rawcount_151671 <- assays(spe_151671)[['logcounts']]\n",
    "rawcount_151672 <- assays(spe_151672)[['logcounts']]\n",
    "\n",
    "rawcount_151673 <- assays(spe_151673)[['logcounts']]\n",
    "rawcount_151674 <- assays(spe_151674)[['logcounts']]\n",
    "rawcount_151675 <- assays(spe_151675)[['logcounts']]\n",
    "rawcount_151676 <- assays(spe_151676)[['logcounts']]"
   ]
  },
  {
   "cell_type": "code",
   "execution_count": 27,
   "id": "9437e4d7-592a-4424-bc55-9135e8537f7e",
   "metadata": {},
   "outputs": [],
   "source": [
    "saveRDS(count_151507,'processed_data/count_151507.rds')\n",
    "saveRDS(count_151508,'processed_data/count_151508.rds')\n",
    "saveRDS(count_151509,'processed_data/count_151509.rds')\n",
    "saveRDS(count_151510,'processed_data/count_151510.rds')\n",
    "\n",
    "saveRDS(count_151669,'processed_data/count_151669.rds')\n",
    "saveRDS(count_151670,'processed_data/count_151670.rds')\n",
    "saveRDS(count_151671,'processed_data/count_151671.rds')\n",
    "saveRDS(count_151672,'processed_data/count_151672.rds')\n",
    "\n",
    "saveRDS(count_151673,'processed_data/count_151673.rds')\n",
    "saveRDS(count_151674,'processed_data/count_151674.rds')\n",
    "saveRDS(count_151675,'processed_data/count_151675.rds')\n",
    "saveRDS(count_151676,'processed_data/count_151676.rds')"
   ]
  },
  {
   "cell_type": "code",
   "execution_count": 26,
   "id": "30209405-61ff-4384-85ee-4cd89a26c122",
   "metadata": {},
   "outputs": [],
   "source": [
    "rawcount_151507 <- assays(spe_151507)[['counts']]\n",
    "rawcount_151508 <- assays(spe_151508)[['counts']]\n",
    "rawcount_151509 <- assays(spe_151509)[['counts']]\n",
    "rawcount_151510 <- assays(spe_151510)[['counts']]\n",
    "\n",
    "rawcount_151669 <- assays(spe_151669)[['counts']]\n",
    "rawcount_151670 <- assays(spe_151670)[['counts']]\n",
    "rawcount_151671 <- assays(spe_151671)[['counts']]\n",
    "rawcount_151672 <- assays(spe_151672)[['counts']]\n",
    "\n",
    "rawcount_151673 <- assays(spe_151673)[['counts']]\n",
    "rawcount_151674 <- assays(spe_151674)[['counts']]\n",
    "rawcount_151675 <- assays(spe_151675)[['counts']]\n",
    "rawcount_151676 <- assays(spe_151676)[['counts']]"
   ]
  },
  {
   "cell_type": "code",
   "execution_count": 27,
   "id": "7f4e4e89-d2f6-4864-96ef-ce7ff324a13f",
   "metadata": {},
   "outputs": [],
   "source": [
    "saveRDS(rawcount_151507,'processed_data/rawcount_151507.rds')\n",
    "saveRDS(rawcount_151508,'processed_data/rawcount_151508.rds')\n",
    "saveRDS(rawcount_151509,'processed_data/rawcount_151509.rds')\n",
    "saveRDS(rawcount_151510,'processed_data/rawcount_151510.rds')\n",
    "\n",
    "saveRDS(rawcount_151669,'processed_data/rawcount_151669.rds')\n",
    "saveRDS(rawcount_151670,'processed_data/rawcount_151670.rds')\n",
    "saveRDS(rawcount_151671,'processed_data/rawcount_151671.rds')\n",
    "saveRDS(rawcount_151672,'processed_data/rawcount_151672.rds')\n",
    "\n",
    "saveRDS(rawcount_151673,'processed_data/rawcount_151673.rds')\n",
    "saveRDS(rawcount_151674,'processed_data/rawcount_151674.rds')\n",
    "saveRDS(rawcount_151675,'processed_data/rawcount_151675.rds')\n",
    "saveRDS(rawcount_151676,'processed_data/rawcount_151676.rds')"
   ]
  },
  {
   "cell_type": "code",
   "execution_count": 26,
   "id": "42f94319-4b01-47dd-a7a3-033fefe7b8d7",
   "metadata": {},
   "outputs": [],
   "source": [
    "coord_151507 <- spatialCoords(spe_151507)\n",
    "coord_151508 <- spatialCoords(spe_151508)\n",
    "coord_151509 <- spatialCoords(spe_151509)\n",
    "coord_151510 <- spatialCoords(spe_151510)\n",
    "\n",
    "coord_151669 <- spatialCoords(spe_151669)\n",
    "coord_151670 <- spatialCoords(spe_151670)\n",
    "coord_151671 <- spatialCoords(spe_151671)\n",
    "coord_151672 <- spatialCoords(spe_151672)\n",
    "\n",
    "coord_151673 <- spatialCoords(spe_151673)\n",
    "coord_151674 <- spatialCoords(spe_151674)\n",
    "coord_151675 <- spatialCoords(spe_151675)\n",
    "coord_151676 <- spatialCoords(spe_151676)"
   ]
  },
  {
   "cell_type": "code",
   "execution_count": 27,
   "id": "a2443fed-ca8c-476d-8aa6-9ff96c2dbab2",
   "metadata": {},
   "outputs": [],
   "source": [
    "saveRDS(coord_151507,'processed_data/coord_151507.rds')\n",
    "saveRDS(coord_151508,'processed_data/coord_151508.rds')\n",
    "saveRDS(coord_151509,'processed_data/coord_151509.rds')\n",
    "saveRDS(coord_151510,'processed_data/coord_151510.rds')\n",
    "\n",
    "saveRDS(coord_151669,'processed_data/coord_151669.rds')\n",
    "saveRDS(coord_151670,'processed_data/coord_151670.rds')\n",
    "saveRDS(coord_151671,'processed_data/coord_151671.rds')\n",
    "saveRDS(coord_151672,'processed_data/coord_151672.rds')\n",
    "\n",
    "saveRDS(coord_151673,'processed_data/coord_151673.rds')\n",
    "saveRDS(coord_151674,'processed_data/coord_151674.rds')\n",
    "saveRDS(coord_151675,'processed_data/coord_151675.rds')\n",
    "saveRDS(coord_151676,'processed_data/coord_151676.rds')"
   ]
  },
  {
   "cell_type": "markdown",
   "id": "c9b10d52-7757-4ae6-b171-3d79eaabcdc9",
   "metadata": {},
   "source": [
    "<h2>Saving each rawcount and logcount as separate dataframe (memory intensive)</h2>"
   ]
  },
  {
   "cell_type": "code",
   "execution_count": 28,
   "id": "e1f112a3-f7fd-447e-a92c-1eff96564f85",
   "metadata": {},
   "outputs": [
    {
     "name": "stderr",
     "output_type": "stream",
     "text": [
      "Warning message in asMethod(object):\n",
      "“sparse->dense coercion: allocating vector of size 1.1 GiB”\n",
      "Warning message in asMethod(object):\n",
      "“sparse->dense coercion: allocating vector of size 1.1 GiB”\n",
      "Warning message in asMethod(object):\n",
      "“sparse->dense coercion: allocating vector of size 1.2 GiB”\n",
      "Warning message in asMethod(object):\n",
      "“sparse->dense coercion: allocating vector of size 1.2 GiB”\n"
     ]
    }
   ],
   "source": [
    "# Opt to run one by one for each sample if not enough memory available\n",
    "# Raw Count\n",
    "to_save <- as.data.frame(rawcount_151507)\n",
    "saveRDS(to_save,'processed_data/df_rawcount_151507.rds')\n",
    "to_save <- as.data.frame(rawcount_151508)\n",
    "saveRDS(to_save,'processed_data/df_rawcount_151508.rds')\n",
    "to_save <- as.data.frame(rawcount_151509)\n",
    "saveRDS(to_save,'processed_data/df_rawcount_151509.rds')\n",
    "to_save <- as.data.frame(rawcount_151510)\n",
    "saveRDS(to_save,'processed_data/df_rawcount_151510.rds')"
   ]
  },
  {
   "cell_type": "code",
   "execution_count": 29,
   "id": "94f29b49-9dd2-4794-8257-785e9b72488a",
   "metadata": {},
   "outputs": [
    {
     "name": "stderr",
     "output_type": "stream",
     "text": [
      "Warning message in asMethod(object):\n",
      "“sparse->dense coercion: allocating vector of size 1.0 GiB”\n",
      "Warning message in asMethod(object):\n",
      "“sparse->dense coercion: allocating vector of size 1.0 GiB”\n"
     ]
    }
   ],
   "source": [
    "to_save <- as.data.frame(rawcount_151669)\n",
    "saveRDS(to_save,'processed_data/df_rawcount_151669.rds')\n",
    "to_save <- as.data.frame(rawcount_151670)\n",
    "saveRDS(to_save,'processed_data/df_rawcount_151670.rds')\n",
    "to_save <- as.data.frame(rawcount_151671)\n",
    "saveRDS(to_save,'processed_data/df_rawcount_151671.rds')\n",
    "to_save <- as.data.frame(rawcount_151672)\n",
    "saveRDS(to_save,'processed_data/df_rawcount_151672.rds')"
   ]
  },
  {
   "cell_type": "code",
   "execution_count": 30,
   "id": "89c267f3-1684-4d9b-8549-6fd8138b7931",
   "metadata": {},
   "outputs": [],
   "source": [
    "to_save <- as.data.frame(rawcount_151673)\n",
    "saveRDS(to_save,'processed_data/df_rawcount_151673.rds')\n",
    "to_save <- as.data.frame(rawcount_151674)\n",
    "saveRDS(to_save,'processed_data/df_rawcount_151674.rds')\n",
    "to_save <- as.data.frame(rawcount_151675)\n",
    "saveRDS(to_save,'processed_data/df_rawcount_151675.rds')\n",
    "to_save <- as.data.frame(rawcount_151676)\n",
    "saveRDS(to_save,'processed_data/df_rawcount_151676.rds')"
   ]
  },
  {
   "cell_type": "code",
   "execution_count": 30,
   "id": "1e6778c9-28ba-4da1-9c9b-c6fd9717a3b5",
   "metadata": {},
   "outputs": [],
   "source": [
    "# Logcount\n",
    "to_save <- as.data.frame(count_151507)\n",
    "saveRDS(to_save,'processed_data/df_logcount_151507.rds')\n",
    "to_save <- as.data.frame(count_151508)\n",
    "saveRDS(to_save,'processed_data/df_logcount_151508.rds')\n",
    "to_save <- as.data.frame(count_151509)\n",
    "saveRDS(to_save,'processed_data/df_logcount_151509.rds')\n",
    "to_save <- as.data.frame(count_151510)\n",
    "saveRDS(to_save,'processed_data/df_logcount_151510.rds')"
   ]
  },
  {
   "cell_type": "code",
   "execution_count": 30,
   "id": "b317d5f6-1c57-4c02-8a60-70efd1d37e2c",
   "metadata": {},
   "outputs": [],
   "source": [
    "to_save <- as.data.frame(count_151669)\n",
    "saveRDS(to_save,'processed_data/df_logcount_151669.rds')\n",
    "to_save <- as.data.frame(count_151670)\n",
    "saveRDS(to_save,'processed_data/df_logcount_151670.rds')\n",
    "to_save <- as.data.frame(count_151671)\n",
    "saveRDS(to_save,'processed_data/df_logcount_151671.rds')\n",
    "to_save <- as.data.frame(count_151672)\n",
    "saveRDS(to_save,'processed_data/df_logcount_151672.rds')"
   ]
  },
  {
   "cell_type": "code",
   "execution_count": 30,
   "id": "6fddb371-8999-4e4c-9b96-e264dabbd99b",
   "metadata": {},
   "outputs": [],
   "source": [
    "to_save <- as.data.frame(count_151673)\n",
    "saveRDS(to_save,'processed_data/df_logcount_151673.rds')\n",
    "to_save <- as.data.frame(count_151674)\n",
    "saveRDS(to_save,'processed_data/df_logcount_151674.rds')\n",
    "to_save <- as.data.frame(count_151675)\n",
    "saveRDS(to_save,'processed_data/df_logcount_151675.rds')\n",
    "to_save <- as.data.frame(count_151676)\n",
    "saveRDS(to_save,'processed_data/df_logcount_151676.rds')"
   ]
  }
 ],
 "metadata": {
  "kernelspec": {
   "display_name": "R-trial",
   "language": "R",
   "name": "r-trial"
  },
  "language_info": {
   "codemirror_mode": "r",
   "file_extension": ".r",
   "mimetype": "text/x-r-source",
   "name": "R",
   "pygments_lexer": "r",
   "version": "4.3.0"
  }
 },
 "nbformat": 4,
 "nbformat_minor": 5
}
