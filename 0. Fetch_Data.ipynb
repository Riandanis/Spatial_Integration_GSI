{
 "cells": [
  {
   "cell_type": "markdown",
   "id": "4fbf68a5-5ddb-48e8-8dd3-645ad81bad07",
   "metadata": {},
   "source": [
    "## 1) Download Gene Expression Data from spatialLIBD source"
   ]
  },
  {
   "cell_type": "code",
   "execution_count": 1,
   "id": "e31aeca3-f909-4f26-91c4-a62be9557535",
   "metadata": {},
   "outputs": [
    {
     "name": "stderr",
     "output_type": "stream",
     "text": [
      "Loading required package: SpatialExperiment\n",
      "\n",
      "Loading required package: SingleCellExperiment\n",
      "\n",
      "Loading required package: SummarizedExperiment\n",
      "\n",
      "Loading required package: MatrixGenerics\n",
      "\n",
      "Loading required package: matrixStats\n",
      "\n",
      "\n",
      "Attaching package: ‘MatrixGenerics’\n",
      "\n",
      "\n",
      "The following objects are masked from ‘package:matrixStats’:\n",
      "\n",
      "    colAlls, colAnyNAs, colAnys, colAvgsPerRowSet, colCollapse,\n",
      "    colCounts, colCummaxs, colCummins, colCumprods, colCumsums,\n",
      "    colDiffs, colIQRDiffs, colIQRs, colLogSumExps, colMadDiffs,\n",
      "    colMads, colMaxs, colMeans2, colMedians, colMins, colOrderStats,\n",
      "    colProds, colQuantiles, colRanges, colRanks, colSdDiffs, colSds,\n",
      "    colSums2, colTabulates, colVarDiffs, colVars, colWeightedMads,\n",
      "    colWeightedMeans, colWeightedMedians, colWeightedSds,\n",
      "    colWeightedVars, rowAlls, rowAnyNAs, rowAnys, rowAvgsPerColSet,\n",
      "    rowCollapse, rowCounts, rowCummaxs, rowCummins, rowCumprods,\n",
      "    rowCumsums, rowDiffs, rowIQRDiffs, rowIQRs, rowLogSumExps,\n",
      "    rowMadDiffs, rowMads, rowMaxs, rowMeans2, rowMedians, rowMins,\n",
      "    rowOrderStats, rowProds, rowQuantiles, rowRanges, rowRanks,\n",
      "    rowSdDiffs, rowSds, rowSums2, rowTabulates, rowVarDiffs, rowVars,\n",
      "    rowWeightedMads, rowWeightedMeans, rowWeightedMedians,\n",
      "    rowWeightedSds, rowWeightedVars\n",
      "\n",
      "\n",
      "Loading required package: GenomicRanges\n",
      "\n",
      "Loading required package: stats4\n",
      "\n",
      "Loading required package: BiocGenerics\n",
      "\n",
      "\n",
      "Attaching package: ‘BiocGenerics’\n",
      "\n",
      "\n",
      "The following objects are masked from ‘package:stats’:\n",
      "\n",
      "    IQR, mad, sd, var, xtabs\n",
      "\n",
      "\n",
      "The following objects are masked from ‘package:base’:\n",
      "\n",
      "    Filter, Find, Map, Position, Reduce, anyDuplicated, aperm, append,\n",
      "    as.data.frame, basename, cbind, colnames, dirname, do.call,\n",
      "    duplicated, eval, evalq, get, grep, grepl, intersect, is.unsorted,\n",
      "    lapply, mapply, match, mget, order, paste, pmax, pmax.int, pmin,\n",
      "    pmin.int, rank, rbind, rownames, sapply, setdiff, sort, table,\n",
      "    tapply, union, unique, unsplit, which.max, which.min\n",
      "\n",
      "\n",
      "Loading required package: S4Vectors\n",
      "\n",
      "\n",
      "Attaching package: ‘S4Vectors’\n",
      "\n",
      "\n",
      "The following object is masked from ‘package:utils’:\n",
      "\n",
      "    findMatches\n",
      "\n",
      "\n",
      "The following objects are masked from ‘package:base’:\n",
      "\n",
      "    I, expand.grid, unname\n",
      "\n",
      "\n",
      "Loading required package: IRanges\n",
      "\n",
      "Loading required package: GenomeInfoDb\n",
      "\n",
      "Loading required package: Biobase\n",
      "\n",
      "Welcome to Bioconductor\n",
      "\n",
      "    Vignettes contain introductory material; view with\n",
      "    'browseVignettes()'. To cite Bioconductor, see\n",
      "    'citation(\"Biobase\")', and for packages 'citation(\"pkgname\")'.\n",
      "\n",
      "\n",
      "\n",
      "Attaching package: ‘Biobase’\n",
      "\n",
      "\n",
      "The following object is masked from ‘package:MatrixGenerics’:\n",
      "\n",
      "    rowMedians\n",
      "\n",
      "\n",
      "The following objects are masked from ‘package:matrixStats’:\n",
      "\n",
      "    anyMissing, rowMedians\n",
      "\n",
      "\n"
     ]
    }
   ],
   "source": [
    "library(\"spatialLIBD\")"
   ]
  },
  {
   "cell_type": "code",
   "execution_count": 2,
   "id": "c5f02c0e-2861-4e7d-938e-4f2acc33c8bc",
   "metadata": {},
   "outputs": [
    {
     "name": "stderr",
     "output_type": "stream",
     "text": [
      "2024-02-01 07:47:02.434829 loading file /root/.cache/R/BiocFileCache/57204d9eafe2_Human_DLPFC_Visium_processedData_sce_scran_spatialLIBD.Rdata%3Fdl%3D1\n",
      "\n"
     ]
    }
   ],
   "source": [
    "spe <- fetch_data(type = \"spe\")"
   ]
  },
  {
   "cell_type": "code",
   "execution_count": 3,
   "id": "6729fbf0-8d86-4b2c-b7b9-4a961f9797f8",
   "metadata": {},
   "outputs": [
    {
     "data": {
      "text/plain": [
       "class: SpatialExperiment \n",
       "dim: 33538 47681 \n",
       "metadata(0):\n",
       "assays(2): counts logcounts\n",
       "rownames(33538): ENSG00000243485 ENSG00000237613 ... ENSG00000277475\n",
       "  ENSG00000268674\n",
       "rowData names(9): source type ... gene_search is_top_hvg\n",
       "colnames(47681): AAACAACGAATAGTTC-1 AAACAAGTATCTCCCA-1 ...\n",
       "  TTGTTTCCATACAACT-1 TTGTTTGTGTAAATTC-1\n",
       "colData names(69): sample_id Cluster ... array_row array_col\n",
       "reducedDimNames(6): PCA TSNE_perplexity50 ... TSNE_perplexity80\n",
       "  UMAP_neighbors15\n",
       "mainExpName: NULL\n",
       "altExpNames(0):\n",
       "spatialCoords names(2) : pxl_col_in_fullres pxl_row_in_fullres\n",
       "imgData names(4): sample_id image_id data scaleFactor"
      ]
     },
     "metadata": {},
     "output_type": "display_data"
    }
   ],
   "source": [
    "spe"
   ]
  },
  {
   "cell_type": "code",
   "execution_count": 4,
   "id": "1fbb8a22-612e-4fe9-8b56-7724652e33ef",
   "metadata": {},
   "outputs": [],
   "source": [
    "data_dir <- \"dataset\"\n",
    "if (!file.exists(data_dir)) {\n",
    "    dir.create(data_dir)\n",
    "}"
   ]
  },
  {
   "cell_type": "code",
   "execution_count": 5,
   "id": "98216c4e-9218-4f85-be0d-34ecd1b1ac9e",
   "metadata": {},
   "outputs": [],
   "source": [
    "saveRDS(spe, file=\"dataset/spe_all.rds\")"
   ]
  },
  {
   "cell_type": "markdown",
   "id": "53c6e96f-2466-4dc3-881e-c8a6c69e1963",
   "metadata": {},
   "source": [
    "## 2) Download Image data for visualization"
   ]
  },
  {
   "cell_type": "code",
   "execution_count": 2,
   "id": "71b828a5-d928-4a4a-8b95-70f6a32cb10d",
   "metadata": {},
   "outputs": [],
   "source": [
    "# Create directory for images\n",
    "data_dir <- 'dataset'\n",
    "sample_dir <- 'samples'\n",
    "download_dir <- file.path(data_dir, sample_dir)\n",
    "if (!file.exists(download_dir)) {\n",
    "    dir.create(download_dir)\n",
    "}"
   ]
  },
  {
   "cell_type": "code",
   "execution_count": 6,
   "id": "b9352805-e534-40dd-bb46-dd4c825220c8",
   "metadata": {},
   "outputs": [],
   "source": [
    "# Function for downloading image data\n",
    "downloadImageData <- function(sample_id, img.url, scale_factors.url, tissue_positions.url, path) {\n",
    "    image_dir <- file.path(path, sample_id)\n",
    "    if (!file.exists(image_dir)) {\n",
    "        dir.create(image_dir)\n",
    "    }\n",
    "    \n",
    "    curl::curl_download(url = img.url, destfile = file.path(image_dir, \"tissue_lowres_image.png\"))\n",
    "    curl::curl_download(url = scale_factors.url, destfile = file.path(image_dir, basename(path = scale_factors.url)))\n",
    "    curl::curl_download(url = tissue_positions.url, destfile = file.path(image_dir, basename(path = tissue_positions.url)))\n",
    "}"
   ]
  },
  {
   "cell_type": "code",
   "execution_count": 3,
   "id": "f424b09f-6ab7-4168-9279-6412c4398013",
   "metadata": {},
   "outputs": [],
   "source": [
    "image_data_source <- cbind(\n",
    "    c(\"151507\",\n",
    "    \"151672\",\n",
    "    \"151673\"),\n",
    "    c(\"https://spatial-dlpfc.s3.us-east-2.amazonaws.com/images/151507_tissue_lowres_image.png\",\n",
    "     \"https://spatial-dlpfc.s3.us-east-2.amazonaws.com/images/151672_tissue_lowres_image.png\",\n",
    "     \"https://spatial-dlpfc.s3.us-east-2.amazonaws.com/images/151673_tissue_lowres_image.png\"),\n",
    "    c(\"https://raw.githubusercontent.com/LieberInstitute/HumanPilot/master/10X/151507/scalefactors_json.json\",\n",
    "     \"https://raw.githubusercontent.com/LieberInstitute/HumanPilot/master/10X/151672/scalefactors_json.json\",\n",
    "     \"https://raw.githubusercontent.com/LieberInstitute/HumanPilot/master/10X/151673/scalefactors_json.json\"),\n",
    "    c(\"https://raw.githubusercontent.com/LieberInstitute/HumanPilot/master/10X/151507/tissue_positions_list.txt\",\n",
    "     \"https://raw.githubusercontent.com/LieberInstitute/HumanPilot/master/10X/151672/tissue_positions_list.txt\",\n",
    "     \"https://raw.githubusercontent.com/LieberInstitute/HumanPilot/master/10X/151673/tissue_positions_list.txt\")\n",
    ")"
   ]
  },
  {
   "cell_type": "code",
   "execution_count": 4,
   "id": "bf7113e0-a180-4d54-96ef-21be9e1fa821",
   "metadata": {},
   "outputs": [],
   "source": [
    "colnames(image_data_source) <- c(\"sample_id\", \"img.url\", \"scalefactors.url\", \"tissue_positions.url\")"
   ]
  },
  {
   "cell_type": "code",
   "execution_count": 7,
   "id": "3a79aacc-d91c-4f5b-ade1-9a8afd64a136",
   "metadata": {},
   "outputs": [
    {
     "data": {
      "text/html": [
       "<style>\n",
       ".list-inline {list-style: none; margin:0; padding: 0}\n",
       ".list-inline>li {display: inline-block}\n",
       ".list-inline>li:not(:last-child)::after {content: \"\\00b7\"; padding: 0 .5ex}\n",
       "</style>\n",
       "<ol class=list-inline><li>'dataset/samples/151507/tissue_positions_list.txt'</li><li>'dataset/samples/151672/tissue_positions_list.txt'</li><li>'dataset/samples/151673/tissue_positions_list.txt'</li></ol>\n"
      ],
      "text/latex": [
       "\\begin{enumerate*}\n",
       "\\item 'dataset/samples/151507/tissue\\_positions\\_list.txt'\n",
       "\\item 'dataset/samples/151672/tissue\\_positions\\_list.txt'\n",
       "\\item 'dataset/samples/151673/tissue\\_positions\\_list.txt'\n",
       "\\end{enumerate*}\n"
      ],
      "text/markdown": [
       "1. 'dataset/samples/151507/tissue_positions_list.txt'\n",
       "2. 'dataset/samples/151672/tissue_positions_list.txt'\n",
       "3. 'dataset/samples/151673/tissue_positions_list.txt'\n",
       "\n",
       "\n"
      ],
      "text/plain": [
       "[1] \"dataset/samples/151507/tissue_positions_list.txt\"\n",
       "[2] \"dataset/samples/151672/tissue_positions_list.txt\"\n",
       "[3] \"dataset/samples/151673/tissue_positions_list.txt\""
      ]
     },
     "metadata": {},
     "output_type": "display_data"
    }
   ],
   "source": [
    "apply(image_data_source, 1, function(row) {\n",
    "    downloadImageData(row[[\"sample_id\"]], row[[\"img.url\"]], row[[\"scalefactors.url\"]], row[[\"tissue_positions.url\"]], download_dir)\n",
    "})"
   ]
  },
  {
   "cell_type": "code",
   "execution_count": null,
   "id": "ac6f618c-f96c-451d-a1bf-7b60a15df9fa",
   "metadata": {},
   "outputs": [],
   "source": []
  }
 ],
 "metadata": {
  "kernelspec": {
   "display_name": "R_seurat",
   "language": "R",
   "name": "ir"
  },
  "language_info": {
   "codemirror_mode": "r",
   "file_extension": ".r",
   "mimetype": "text/x-r-source",
   "name": "R",
   "pygments_lexer": "r",
   "version": "4.3.1"
  }
 },
 "nbformat": 4,
 "nbformat_minor": 5
}
