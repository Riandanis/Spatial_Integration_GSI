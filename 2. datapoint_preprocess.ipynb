{
 "cells": [
  {
   "cell_type": "code",
   "execution_count": 1,
   "id": "ea62357b-66bb-4dcc-8ff3-5e8226958d8c",
   "metadata": {},
   "outputs": [],
   "source": [
    "%load_ext autoreload\n",
    "%autoreload 2"
   ]
  },
  {
   "cell_type": "code",
   "execution_count": 2,
   "id": "ec21d7d5-64dd-4f9c-b5b3-ba3fee316afd",
   "metadata": {},
   "outputs": [],
   "source": [
    "import matplotlib.pyplot as plt\n",
    "import numpy as np\n",
    "import pandas as pd\n",
    "import networkx as nx\n",
    "import rpy2 as rp\n",
    "import rpy2.robjects as ro\n",
    "import pyreadr\n",
    "import os\n",
    "import time\n",
    "import h5py\n",
    "# import mmdet\n",
    "import scanpy\n",
    "# import ssam\n",
    "import pickle\n",
    "import random\n",
    "# import pyarrow\n",
    "import dgl\n",
    "import ast\n",
    "\n",
    "from tqdm import tqdm\n",
    "\n",
    "from datetime import datetime\n",
    "\n",
    "from sklearn.model_selection import train_test_split\n",
    "from sklearn.metrics import confusion_matrix, recall_score, precision_score, f1_score, accuracy_score, matthews_corrcoef, mean_squared_error\n",
    "\n",
    "# from captum.attr import IntegratedGradients\n",
    "# from captum.attr import LayerConductance\n",
    "# from captum.attr import NeuronConductance\n",
    "\n",
    "import torch\n",
    "import torch.nn as nn\n",
    "import torch.optim as optim\n",
    "import torchvision\n",
    "import torch.nn.functional as F\n",
    "\n",
    "# import torch_geometric\n",
    "\n",
    "from torch.autograd import Variable\n",
    "from torch.utils.data import Dataset, DataLoader, TensorDataset\n",
    "from torchvision import transforms, utils\n",
    "\n",
    "from skimage import io\n",
    "from skimage import img_as_float\n",
    "from scipy import ndimage\n",
    "\n",
    "# from ssam.utils import corr, calc_ctmap, calc_corrmap, flood_fill, calc_kde\n",
    "from scipy.spatial.distance import cdist\n",
    "\n",
    "from collections import OrderedDict\n",
    "\n",
    "from packaging import version\n",
    "import subprocess"
   ]
  },
  {
   "cell_type": "code",
   "execution_count": 3,
   "id": "e6d43544-6423-4586-a444-5bdb5b003107",
   "metadata": {},
   "outputs": [],
   "source": [
    "# for i in range(len(df_res)):\n",
    "# change variable name to fit data being processed\n",
    "\n",
    "def to_image(df_active, coord_act, dataset_folder, save=False):\n",
    "    img_dict = {}\n",
    "    zero_list = []\n",
    "    \n",
    "    for i in tqdm(range(len(df_active))):\n",
    "        gene_id = df_active.loc[i,'gene_id']\n",
    "        if(df_active.loc[i,'coord_count']<=1):\n",
    "            zero_list.append(gene_id)\n",
    "            x_resolution = 200\n",
    "            y_resolution = 250\n",
    "            img = np.zeros((y_resolution+20, x_resolution+20), dtype=bool)\n",
    "            img[:, :] = 0\n",
    "            img_dict[gene_id] = img\n",
    "            if(save):\n",
    "                os.makedirs(dataset_folder ,exist_ok=True)\n",
    "                np.save(dataset_folder + '/' + gene_id + '.npy',img)\n",
    "            continue\n",
    "    \n",
    "        # get coord_list from dataframe as string back to list\n",
    "        my_list = ast.literal_eval(df_active.loc[i,'coord_list'])\n",
    "    \n",
    "        # table for converting coordinate list into actual pixel coordinates\n",
    "        ext_coord = coord_act.loc[my_list]\n",
    "    \n",
    "        # points = coord673.values.tolist()\n",
    "        # sites = coord673.index.tolist()\n",
    "        points = ext_coord.values.tolist()\n",
    "        sites = ext_coord.index.tolist()\n",
    "        \n",
    "        x, y = zip(*points)\n",
    "        \n",
    "        # Convert into 2D matrix\n",
    "        x_resolution = 200\n",
    "        y_resolution = 250\n",
    "    \n",
    "        x_min = min(x)\n",
    "        x_max = max(x)\n",
    "        x_ptp = x_max - x_min\n",
    "    \n",
    "        y_min = min(y)\n",
    "        y_max = max(y)\n",
    "        y_ptp = y_max - y_min\n",
    "    \n",
    "        img = np.zeros((y_resolution+20, x_resolution+20), dtype=bool)\n",
    "    \n",
    "        # Fit the coordinates into the new resolution\n",
    "        for k, l in points:\n",
    "            if x_ptp == 0:\n",
    "                # print('x:: max: {} min: {}'.format(x_max, x_min))\n",
    "                # print(points)\n",
    "                x_pxl = x_resolution/2\n",
    "            else:\n",
    "                x_pxl = (k - x_min) / x_ptp * x_resolution\n",
    "            if y_ptp == 0:\n",
    "                # print('y:: max: {} min: {}'.format(y_max, y_min))\n",
    "                # print(points)\n",
    "                y_pxl = y_resolution/2\n",
    "            else:\n",
    "                y_pxl = (l - y_min) / y_ptp * y_resolution\n",
    "            img[int(y_pxl+10), int(x_pxl+10)] = 1\n",
    "        \n",
    "        img_dict[gene_id] = img\n",
    "        if(save):\n",
    "            os.makedirs(dataset_folder ,exist_ok=True)\n",
    "            np.save(dataset_folder + '/' +gene_id + '.npy',img)\n",
    "            \n",
    "    return img_dict, zero_list"
   ]
  },
  {
   "attachments": {},
   "cell_type": "markdown",
   "id": "e0157619-0732-493c-9900-fea21324b0fe",
   "metadata": {},
   "source": [
    "<h1>Input folder and file names</h1>"
   ]
  },
  {
   "cell_type": "code",
   "execution_count": 4,
   "id": "9b05c227-915c-4fec-811e-425a1790b8a4",
   "metadata": {},
   "outputs": [],
   "source": [
    "data_folder = '/workspace/volume/spatial_integration/GNN_based/combined/processed_data/'\n",
    "file_names = ['151507','151672', '151673']\n",
    "save_images = False"
   ]
  },
  {
   "cell_type": "markdown",
   "id": "d68e977d-6ef8-4a6f-9c40-32d2f4fbc0d5",
   "metadata": {},
   "source": [
    "<h1>process start</h1>"
   ]
  },
  {
   "cell_type": "code",
   "execution_count": 5,
   "id": "818f9805-ac6b-4166-819e-f8978e2f8435",
   "metadata": {},
   "outputs": [],
   "source": [
    "data_dict = {}\n",
    "coord_dict = {}\n",
    "list_dict = {}\n",
    "\n",
    "# read from rds\n",
    "for i, file_name in enumerate(file_names, start=1):\n",
    "    variable_name = f\"data_{file_name}\"\n",
    "    df_read = pyreadr.read_r(data_folder+ '/' + f\"df_logcount_{file_name}.rds\")\n",
    "    data_dict[variable_name] = df_read[None]\n",
    "\n",
    "# concatenate all samples read\n",
    "combined_all = pd.concat(data_dict.values(), axis=1, ignore_index=False)"
   ]
  },
  {
   "cell_type": "code",
   "execution_count": 6,
   "id": "728e975c-4d4f-483b-a596-a4b5a1ab4cd3",
   "metadata": {},
   "outputs": [],
   "source": [
    "# template dataframe for coordinate list\n",
    "df_unfil = pd.DataFrame(combined_all.index.tolist())\n",
    "df_unfil.columns=[\"gene_id\"]\n",
    "df_unfil['coord_list'] = pd.Series(dtype=str)\n",
    "df_unfil['coord_count'] = pd.Series(dtype=int)"
   ]
  },
  {
   "cell_type": "code",
   "execution_count": 7,
   "id": "cc21a32b-4c83-4ac4-b793-68bc9000a011",
   "metadata": {},
   "outputs": [
    {
     "name": "stdout",
     "output_type": "stream",
     "text": [
      "processing 507:\n"
     ]
    },
    {
     "name": "stderr",
     "output_type": "stream",
     "text": [
      "100%|███████████████████████████████████████████████████████████████████████████████████████████████████████████| 33538/33538 [00:12<00:00, 2728.41it/s]\n"
     ]
    },
    {
     "name": "stdout",
     "output_type": "stream",
     "text": [
      "processing 672:\n"
     ]
    },
    {
     "name": "stderr",
     "output_type": "stream",
     "text": [
      "100%|███████████████████████████████████████████████████████████████████████████████████████████████████████████| 33538/33538 [00:12<00:00, 2721.10it/s]\n"
     ]
    },
    {
     "name": "stdout",
     "output_type": "stream",
     "text": [
      "processing 673:\n"
     ]
    },
    {
     "name": "stderr",
     "output_type": "stream",
     "text": [
      "100%|███████████████████████████████████████████████████████████████████████████████████████████████████████████| 33538/33538 [00:12<00:00, 2705.10it/s]\n"
     ]
    }
   ],
   "source": [
    "for i, file_name in enumerate(file_names, start=1):\n",
    "    print(f'processing {file_name}:')\n",
    "    var_data = f'data_{file_name}'\n",
    "    var_coord = f\"coord_{file_name}\"\n",
    "    \n",
    "    coord_val = pyreadr.read_r(data_folder + f'/coord_{file_name}.rds')\n",
    "    coord_dict[var_coord] = coord_val[None]\n",
    "\n",
    "    df_coord = df_unfil.copy()\n",
    "    list_dict[var_coord] = df_coord\n",
    "    for i in tqdm(range(len(combined_all))):\n",
    "        a = data_dict[var_data].iloc[i]\n",
    "        list_dict[var_coord].loc[i, 'coord_list'] = str(a[a>0].index.tolist())\n",
    "        list_dict[var_coord].loc[i, 'coord_count'] = len(a[a>0].index.tolist())"
   ]
  },
  {
   "cell_type": "markdown",
   "id": "892c91b5-3a00-4809-96f0-2211b34d30ee",
   "metadata": {},
   "source": [
    "<h2>Coordinate list into plotted image</h2>"
   ]
  },
  {
   "cell_type": "code",
   "execution_count": 8,
   "id": "436ac259-f08d-4aeb-a8ba-ca51b2861287",
   "metadata": {},
   "outputs": [
    {
     "name": "stdout",
     "output_type": "stream",
     "text": [
      "/workspace/volume/spatial_integration/GNN_based/combined/New/Reworked_flow/151507\n"
     ]
    },
    {
     "name": "stderr",
     "output_type": "stream",
     "text": [
      "100%|███████████████████████████████████████████████████████████████████████████████████████████████████████████| 33538/33538 [00:16<00:00, 2054.23it/s]\n"
     ]
    },
    {
     "name": "stdout",
     "output_type": "stream",
     "text": [
      "/workspace/volume/spatial_integration/GNN_based/combined/New/Reworked_flow/151672\n"
     ]
    },
    {
     "name": "stderr",
     "output_type": "stream",
     "text": [
      "100%|███████████████████████████████████████████████████████████████████████████████████████████████████████████| 33538/33538 [00:19<00:00, 1757.41it/s]\n"
     ]
    },
    {
     "name": "stdout",
     "output_type": "stream",
     "text": [
      "/workspace/volume/spatial_integration/GNN_based/combined/New/Reworked_flow/151673\n"
     ]
    },
    {
     "name": "stderr",
     "output_type": "stream",
     "text": [
      "100%|███████████████████████████████████████████████████████████████████████████████████████████████████████████| 33538/33538 [00:21<00:00, 1591.06it/s]\n"
     ]
    }
   ],
   "source": [
    "image = {}\n",
    "zeros = {}\n",
    "\n",
    "for i, var_list in enumerate(list_dict.keys()):\n",
    "    folder_name = file_names[i]\n",
    "    folder_sample = os.getcwd() + f'/{folder_name}'\n",
    "    print(folder_sample)\n",
    "    df_active = list_dict[var_list]\n",
    "    coord_act = coord_dict[var_list]\n",
    "    \n",
    "    image[folder_name], zeros[folder_name] = to_image(df_active, coord_act, folder_sample, save=save_images)"
   ]
  },
  {
   "cell_type": "markdown",
   "id": "0f28c661-dfd4-49c9-b5b5-fb6851f6ae7d",
   "metadata": {},
   "source": [
    "<h3>confirm output with visualization</h3>"
   ]
  },
  {
   "cell_type": "code",
   "execution_count": 23,
   "id": "3dd2b294-1f99-48a2-ada0-7e8f6900a910",
   "metadata": {},
   "outputs": [
    {
     "name": "stdout",
     "output_type": "stream",
     "text": [
      "ENSG00000116251\n"
     ]
    },
    {
     "data": {
      "text/plain": [
       "<Figure size 800x1000 with 0 Axes>"
      ]
     },
     "metadata": {},
     "output_type": "display_data"
    },
    {
     "data": {
      "image/png": "[encoded data removed]",
      "text/plain": [
       "<Figure size 1200x3600 with 1 Axes>"
      ]
     },
     "metadata": {},
     "output_type": "display_data"
    }
   ],
   "source": [
    "sample = '151673'\n",
    "for key in image[sample].keys():\n",
    "    if image[sample][key].sum() > 3000:\n",
    "        print(key)\n",
    "        plt.figure(figsize=(8,10))\n",
    "        \n",
    "        fig, ax = plt.subplots(1,1,figsize=(12,36))\n",
    "        \n",
    "        ax.imshow(image[sample][key], cmap='viridis',origin='lower')\n",
    "        \n",
    "        plt.show()\n",
    "        break"
   ]
  },
  {
   "cell_type": "code",
   "execution_count": 25,
   "id": "18ed242a-c47c-4828-a06a-a767c6c65df0",
   "metadata": {},
   "outputs": [
    {
     "name": "stdout",
     "output_type": "stream",
     "text": [
      "ENSG00000116251.npy\n"
     ]
    },
    {
     "data": {
      "text/plain": [
       "<Figure size 800x1000 with 0 Axes>"
      ]
     },
     "metadata": {},
     "output_type": "display_data"
    },
    {
     "data": {
      "image/png": "[encoded data removed]",
      "text/plain": [
       "<Figure size 1200x3600 with 1 Axes>"
      ]
     },
     "metadata": {},
     "output_type": "display_data"
    }
   ],
   "source": [
    "directory = os.getcwd() + '/151673'\n",
    "filenames = os.listdir(directory)\n",
    "\n",
    "# plt.figure(figsize=(8,10))\n",
    "\n",
    "# fig, ax = plt.subplots(3,1,figsize=(12,36))\n",
    "\n",
    "for i, filename in enumerate(filenames) :\n",
    "    if filename.endswith('.npy') and os.path.isfile(os.path.join(directory, filename)):\n",
    "        new_test = np.load(directory+'/'+filename)   \n",
    "        # ax[i].imshow(new_test, cmap='viridis',origin='lower')\n",
    "        if new_test.sum() > 3000:\n",
    "            print(filename)\n",
    "            plt.figure(figsize=(8,10))\n",
    "            \n",
    "            fig, ax = plt.subplots(1,1,figsize=(12,36))\n",
    "            \n",
    "            ax.imshow(new_test, cmap='viridis',origin='lower')\n",
    "        \n",
    "            plt.show()\n",
    "            break"
   ]
  },
  {
   "cell_type": "markdown",
   "id": "9d850c50-b55f-47cb-8c9b-58ed4bce4582",
   "metadata": {},
   "source": [
    "<h1>END</h1>"
   ]
  },
  {
   "cell_type": "markdown",
   "id": "61132474-50fb-4420-874f-8eda74274352",
   "metadata": {},
   "source": [
    "-----------------------"
   ]
  }
 ],
 "metadata": {
  "kernelspec": {
   "display_name": "Python 3 (ipykernel)",
   "language": "python",
   "name": "python3"
  },
  "language_info": {
   "codemirror_mode": {
    "name": "ipython",
    "version": 3
   },
   "file_extension": ".py",
   "mimetype": "text/x-python",
   "name": "python",
   "nbconvert_exporter": "python",
   "pygments_lexer": "ipython3",
   "version": "3.10.11"
  }
 },
 "nbformat": 4,
 "nbformat_minor": 5
}
